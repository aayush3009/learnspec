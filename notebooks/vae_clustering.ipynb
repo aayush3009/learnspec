{
 "cells": [
  {
   "cell_type": "code",
   "execution_count": null,
   "id": "a39d6d3b",
   "metadata": {},
   "outputs": [],
   "source": [
    "### Import packages\n",
    "\n",
    "%matplotlib widget\n",
    "import numpy as np\n",
    "import matplotlib.pyplot as plt\n",
    "\n",
    "from learnspec.functions import directories, stacking\n",
    "\n",
    "from astropy.stats import sigma_clipped_stats\n",
    "import astropy.units as u\n",
    "\n",
    "import seaborn as sns\n",
    "sns.set_palette(\"Dark2\")\n",
    "\n",
    "import pandas as pd\n",
    "\n",
    "plt.style.use('/Users/aayushsaxena/Desktop/Oxford/plt_styles/as_jades.mplstyle')\n"
   ]
  },
  {
   "cell_type": "code",
   "execution_count": null,
   "id": "73209841",
   "metadata": {},
   "outputs": [],
   "source": []
  }
 ],
 "metadata": {
  "language_info": {
   "name": "python"
  }
 },
 "nbformat": 4,
 "nbformat_minor": 5
}
